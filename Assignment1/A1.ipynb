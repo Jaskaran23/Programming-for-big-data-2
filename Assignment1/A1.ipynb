{
 "cells": [
  {
   "cell_type": "markdown",
   "metadata": {},
   "source": [
    "# Assignment 1: Web Scraping"
   ]
  },
  {
   "cell_type": "markdown",
   "metadata": {},
   "source": [
    "## Objective"
   ]
  },
  {
   "cell_type": "markdown",
   "metadata": {},
   "source": [
    "Data scientists often need to crawl data from websites and turn the crawled data (HTML pages) to structured data (tables). Thus, web scraping is an essential skill that every data scientist should master. In this assignment, you will learn the followings:\n",
    "\n",
    "\n",
    "* How to use [requests](http://www.python-requests.org/en/master/) to download HTML pages from a website?\n",
    "* How to select content on a webpage with [lxml](http://lxml.de/)? \n",
    "\n",
    "You can either use Spark DataFrame or [pandas.DataFrame](http://pandas.pydata.org/pandas-docs/stable/generated/pandas.DataFrame.html) to do the assignment. In comparison, pandas.DataFrame has richer APIs, but is not good at distributed computing."
   ]
  },
  {
   "cell_type": "markdown",
   "metadata": {},
   "source": [
    "## Preliminary"
   ]
  },
  {
   "cell_type": "markdown",
   "metadata": {},
   "source": [
    "If this is your first time to write a web scraper, you need to learn some basic knowledge of HTML, DOM, and XPath. I found that this is a good resource: [https://data-lessons.github.io](https://data-lessons.github.io/library-webscraping-DEPRECATED/). Please take a look at\n",
    "\n",
    "* [Selecting content on a web page with XPath\n",
    "](https://data-lessons.github.io/library-webscraping-DEPRECATED/xpath/)\n",
    "* [Web scraping using Python: requests and lxml](https://data-lessons.github.io/library-webscraping-DEPRECATED/04-lxml/). \n",
    "\n",
    "Please let me know if you find a better resource. I'll share it with the other students."
   ]
  },
  {
   "cell_type": "markdown",
   "metadata": {},
   "source": [
    "## Overview"
   ]
  },
  {
   "cell_type": "markdown",
   "metadata": {},
   "source": [
    "Imagine you are a data scientist working at SFU. One day, you want to analyze CS faculty data and answer two interesting questions:\n",
    "\n",
    "1. Who are the CS faculty members?\n",
    "2. What are their research interests?\n",
    "\n",
    "To do so, the first thing is to figure out what data to collect."
   ]
  },
  {
   "cell_type": "markdown",
   "metadata": {},
   "source": [
    "## Task 1: SFU CS Faculty Members"
   ]
  },
  {
   "cell_type": "markdown",
   "metadata": {},
   "source": [
    "You find that there is a web page in the CS school website, which lists all the faculty members as well as their basic information. \n",
    "\n",
    "In Task 1, your job is to write a web scraper to extract the faculty information from this page: [https://www.sfu.ca/computing/people/faculty.html](https://www.sfu.ca/computing/people/faculty.html).\n",
    "\n",
    "\n"
   ]
  },
  {
   "cell_type": "markdown",
   "metadata": {},
   "source": [
    "### (a) Crawling Web Page"
   ]
  },
  {
   "cell_type": "markdown",
   "metadata": {},
   "source": [
    "A web page is essentially a file stored in a remote machine (called web server). You can use [requests](http://www.python-requests.org/en/master/) to open such a file and read data from it. Please complete the following code to download the HTML page and save it as a text file (like [this](./faculty.txt)). "
   ]
  },
  {
   "cell_type": "code",
   "execution_count": 1,
   "metadata": {},
   "outputs": [],
   "source": [
    "import requests\n",
    "response = requests.get('https://www.sfu.ca/computing/people/faculty.html')\n",
    "filename = 'sfufaculty.txt'\n",
    "with open(filename,'w') as fd:\n",
    "    fd.write(response.text)\n",
    "\n",
    "# 1. Download the webpage\n",
    "# 2. Save it as a text file (named faculty.txt)"
   ]
  },
  {
   "cell_type": "markdown",
   "metadata": {},
   "source": [
    "### (b) Extracting Structured Data"
   ]
  },
  {
   "cell_type": "markdown",
   "metadata": {},
   "source": [
    "An HTML page follows the Document Object Model (DOM). It models an HTML page as a tree structure wherein each node is an object representing a part of the page. The nodes can be searched and extracted programmatically using XPath. Please complete the following code to transform the above HTML page to a CSV file (like [this](./faculty_table.csv)). "
   ]
  },
  {
   "cell_type": "code",
   "execution_count": 1,
   "metadata": {},
   "outputs": [],
   "source": [
    "import lxml.html \n",
    "import requests\n",
    "import lxml.html\n",
    "from bs4 import BeautifulSoup\n",
    "import pandas as pd\n",
    "import re\n",
    "\n",
    "\n",
    "filename = 'sfufaculty.txt'\n",
    "\n",
    "with open(filename) as f:\n",
    "\tcontent = f.read()\n",
    "\n",
    "\n",
    "html_soup = BeautifulSoup(content,'html.parser')\n",
    "\n",
    "domain = 'http://www.sfu.ca'\n",
    "#print(type(html_soup))\n",
    "texts = html_soup.find_all('div', class_='text')\n",
    "names=[]\n",
    "ranks=[]\n",
    "area=[]\n",
    "profile =[]\n",
    "homepage=[]\n",
    "#print len(texts)\n",
    "for x in texts:\n",
    "\ttry:\n",
    "\t\twhole = x.h4.get_text()\n",
    "\n",
    "\t\tname = whole.split(',')[0]  #finding the name of preofessors\n",
    "\t\tnames.append(name)\n",
    "\t\trank = whole.split(',')[1]\n",
    "\t\trank2 = rank.split('\\n')[0] # finding the ranks of professor\n",
    "\t\tranks.append(rank2)\n",
    "\n",
    "\t\t\n",
    "\t\tfor b_tag in x.find_all('b'): #finding the area of research\n",
    "\t\t\tareas1 = b_tag.next_sibling\n",
    "\t\tarea.append(areas1)\n",
    "\n",
    "\n",
    "\t\tlinks = x.find_all('a',string='Profile & Contact Information') or x.find_all('a', string='Profile & Contact Information'u'\\xa0')\n",
    "\t\tfor o in links:\n",
    "\t\t\tlink1 = o.get('href')\n",
    "\t\t\tif link1.startswith('http://'):\n",
    "\t\t\t\tlink2 = link1\n",
    "\t\t\telse:\n",
    "\t\t\t\tlink2 = domain + link1\n",
    "\t\t\t#print(link1)\n",
    "\t\tprofile.append(link2)\n",
    "\n",
    "\n",
    "\n",
    "\t\thpage = x.find_all('a',string = 'Home Page')\n",
    "\t\t#print (hpage)\n",
    "\t\tif hpage:\n",
    "\t\t\tfor h in hpage:\n",
    "\t\t\t\tlink4 = h.get('href')\n",
    "\t\t\t\t#print(link4)\t\t\n",
    "\t\t\t\thomepage.append(link4)\n",
    "\t\telse:\n",
    "\t\t\thomepage.append(':')\n",
    "\n",
    "\n",
    "\t\t\n",
    "\n",
    "\t\n",
    "\t\n",
    "\n",
    "\texcept AttributeError:\n",
    "\t\tpass\n",
    "\n",
    "\n",
    "\n",
    "#print('name:',names)\n",
    "#print('rank:',ranks)\n",
    "#print (homepage)\n",
    "\n",
    "df = pd.DataFrame(names,columns=['Name'])\n",
    "df['Rank']=ranks\n",
    "df['area'] = area\n",
    "df['profile'] = profile\n",
    "df['homepage'] = homepage\n",
    "\n",
    "#print(df)\n",
    "df.to_csv('faculty_table.csv',encoding = 'utf-8',index=True)\n",
    "\n",
    "# 1. Open faculty.txt\n",
    "# 2. Parse the HTML page as a tree structure\n",
    "# 3. Extract related content from the tree using XPath\n",
    "# 4. Save the extracted content as an csv file (named faculty_table.csv)"
   ]
  },
  {
   "cell_type": "markdown",
   "metadata": {},
   "source": [
    "## Task 2: Research Interests"
   ]
  },
  {
   "cell_type": "markdown",
   "metadata": {},
   "source": [
    "Suppose you want to know the research interests of each faculty. However, the above crawled web page does not contain such information. "
   ]
  },
  {
   "cell_type": "markdown",
   "metadata": {},
   "source": [
    "### (a) Crawling Web Page"
   ]
  },
  {
   "cell_type": "markdown",
   "metadata": {},
   "source": [
    "You notice that such information can be found on the profile page of each faculty. For example, you can find the research interests of Dr. Jiannan Wang from [http://www.sfu.ca/computing/people/faculty/jiannanwang.html](http://www.sfu.ca/computing/people/faculty/jiannanwang.html). \n",
    "\n",
    "\n",
    "Please complete the following code to download the profile pages and save them as text files. There are 60 faculties, so you need to download 60 web pages in total. "
   ]
  },
  {
   "cell_type": "code",
   "execution_count": 1,
   "metadata": {},
   "outputs": [],
   "source": [
    "import requests\n",
    "import requests\n",
    "from bs4 import BeautifulSoup\n",
    "import pandas as pd\n",
    "import os\n",
    "\n",
    "dirName = 'profilepages'\n",
    "#profile1=[]\n",
    "filename=[]\n",
    "\n",
    "data = pd.read_csv('faculty_table.csv')\n",
    "#print(data)\n",
    "profile1 = data['profile']\n",
    "#for p in profile1:\n",
    "        #print(p)\n",
    "name = data['Name'].values\n",
    "index =0\n",
    "for p in profile1:\n",
    "        response=requests.get(p)\n",
    "        #soup = BeautifulSoup(response.content,'lxml')\n",
    "        with open((name[index]+'.txt'),'w') as f:\n",
    "                f.write(response.text)\n",
    "        index = index + 1\n",
    "\n",
    "\n",
    "\n",
    "# 1. Download the profile pages of 60 faculties\n",
    "# 2. Save each page as a text file\n"
   ]
  },
  {
   "cell_type": "markdown",
   "metadata": {},
   "source": [
    "### (b) Extracting Structured Data"
   ]
  },
  {
   "cell_type": "markdown",
   "metadata": {},
   "source": [
    "Please complete the following code to extract the research interests of each faculty, and generate a file like [this](./faculty_more_table.csv). "
   ]
  },
  {
   "cell_type": "code",
   "execution_count": 1,
   "metadata": {},
   "outputs": [],
   "source": [
    "from lxml import etree\n",
    "import lxml.html\n",
    "import pandas as pd\n",
    "from bs4 import BeautifulSoup\n",
    "import re\n",
    "\n",
    "# 1. Open each text file and parse it as a tree structure\n",
    "\n",
    "df = pd.read_csv(\"faculty_table.csv\")\n",
    "names = df['Name'].values\n",
    "lc = []\n",
    "\n",
    "\n",
    "element_list=[]*60\n",
    "index = 0\n",
    "for val in names:\n",
    "\n",
    "    with open(val+\".txt\",'r') as f:\n",
    "        content = f.read()\n",
    "    html_soup = BeautifulSoup(content,'html.parser')\n",
    "    texts = html_soup.find_all('h2',text = re.compile('Research interests')) or html_soup.find_all('h2',text = re.compile('Research Interests'))\n",
    "    if not texts:\n",
    "        lc.append('[]')\n",
    "    else:\n",
    "        lc5=[]\n",
    "        for x in texts:\n",
    "            p = x.next_sibling.next_sibling\n",
    "            list_element = p.find_all('li')\n",
    "            for i in list_element:\n",
    "                lc1 = i.text.strip()\n",
    "                lc5.append(lc1)\n",
    "            lc.append(lc5)\n",
    "        \n",
    "    index+=1\n",
    "           \n",
    "           \n",
    "# 3. Add the extracted content to faculty_table.csv\n",
    "df['research_interests'] = lc\n",
    "df.to_csv('faculty_table.csv', sep=',', encoding='utf-8', index=False) \n",
    "\n",
    "# 4. Generate a new CSV file, named faculty_more_table.csv\n",
    "df.to_csv('faculty_more_table.csv', sep=',', encoding='utf-8', index=False)\n",
    "\n",
    "# 1. Open each text file and parse it as a tree structure \n",
    "# 2. Extract the research interests from each tree using XPath\n",
    "# 3. Add the extracted content to faculty_table.csv\n",
    "# 4. Generate a new CSV file, named faculty_more_table.csv"
   ]
  },
  {
   "cell_type": "markdown",
   "metadata": {},
   "source": [
    "## Submission"
   ]
  },
  {
   "cell_type": "markdown",
   "metadata": {},
   "source": [
    "Complete the code in this [notebook](A1.ipynb), and submit it to the CourSys activity `Assignment 1`."
   ]
  }
 ],
 "metadata": {
  "kernelspec": {
   "display_name": "Python 3",
   "language": "python",
   "name": "python3"
  },
  "language_info": {
   "codemirror_mode": {
    "name": "ipython",
    "version": 3
   },
   "file_extension": ".py",
   "mimetype": "text/x-python",
   "name": "python",
   "nbconvert_exporter": "python",
   "pygments_lexer": "ipython3",
   "version": "3.6.7"
  }
 },
 "nbformat": 4,
 "nbformat_minor": 1
}
